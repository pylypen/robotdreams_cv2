{
  "cells": [
    {
      "cell_type": "markdown",
      "metadata": {
        "id": "view-in-github",
        "colab_type": "text"
      },
      "source": [
        "<a href=\"https://colab.research.google.com/github/pylypen/robotdreams_cv2/blob/main/homework_11/Homework.ipynb\" target=\"_parent\"><img src=\"https://colab.research.google.com/assets/colab-badge.svg\" alt=\"Open In Colab\"/></a>"
      ]
    },
    {
      "cell_type": "markdown",
      "metadata": {
        "id": "SWwn2Q4q_nii"
      },
      "source": [
        "# HOMEWORK 11\n",
        "\n",
        "In this homework you are going to improve the DNN for house price estimation we built during the lesson. The objective is to beat the performance (i.e. to get a closer estimation) of the last network we built in the lecture.\n",
        "\n",
        "The structure of this homework is as follows:\n",
        " * First, we are going to build the reference network (exactly the same network we implemented in the lecture).\n",
        " * You are going to run it a write down the price estimation error (Validation MAE).\n",
        " * Then you are going to make some modifications in order to make the network perform better.\n",
        " \n",
        "In the section **Tasks** you will find what modification you'll need to implement as well as some hints.\n",
        " \n",
        "At the end, as usual, there are some question waiting for you to answer :-)"
      ]
    },
    {
      "cell_type": "code",
      "execution_count": 2,
      "metadata": {
        "id": "Wx-yntur_nim"
      },
      "outputs": [],
      "source": [
        "import cv2\n",
        "import numpy as np\n",
        "import pandas as pd\n",
        "from sklearn.preprocessing import StandardScaler\n",
        "from sklearn.model_selection import train_test_split\n",
        "from matplotlib import pyplot as plt\n",
        "plt.rcParams['figure.figsize'] = [15, 10]\n",
        "\n",
        "from tensorflow.keras import Model, metrics\n",
        "from tensorflow.keras.layers import Dense, Dropout, Input\n",
        "\n",
        "# Set the seeds\n",
        "from numpy.random import seed\n",
        "from tensorflow.random import set_seed\n",
        "seed_value = 1234578790\n",
        "seed(seed_value)\n",
        "set_seed(seed_value)"
      ]
    },
    {
      "cell_type": "markdown",
      "metadata": {
        "id": "6XmgxX1l_nin"
      },
      "source": [
        "### Data Preparation\n",
        "\n",
        "Let's load the data and prepare the training sets."
      ]
    },
    {
      "cell_type": "code",
      "execution_count": 3,
      "metadata": {
        "id": "v6Tci1gO_nio"
      },
      "outputs": [],
      "source": [
        "dataset = pd.read_csv('train.csv')\n",
        "\n",
        "features = ['SalePrice','OverallQual', 'GrLivArea', 'FullBath', 'YearBuilt', 'LotArea']\n",
        "data = dataset[features]\n",
        "\n",
        "# Filling nan with the mean of the column:\n",
        "data = data.fillna(data.mean())\n",
        "\n",
        "# Extract input values and normalize\n",
        "x = data[features[1:]]\n",
        "scale = StandardScaler()\n",
        "x = scale.fit_transform(x)\n",
        "\n",
        "# Extract output values (prices) and normalize\n",
        "y = data[features[0]].values\n",
        "y = y/100000\n",
        "\n",
        "# Split into 75% for train and 25% for test\n",
        "x_train, x_test, y_train, y_test = train_test_split(x, y, test_size=0.25, random_state=seed_value)"
      ]
    },
    {
      "cell_type": "markdown",
      "metadata": {
        "id": "obr8Jc_a_nip"
      },
      "source": [
        "Let's use the same plotting helper we used in the lecture."
      ]
    },
    {
      "cell_type": "code",
      "execution_count": 4,
      "metadata": {
        "scrolled": true,
        "id": "VEzN3yD6_nip"
      },
      "outputs": [],
      "source": [
        "def plot_history(history):\n",
        "    h = history.history\n",
        "    epochs = range(len(h['loss']))\n",
        "\n",
        "    plt.subplot(121), plt.plot(epochs, h['loss'], '.-', epochs, h['val_loss'], '.-')\n",
        "    plt.grid(True), plt.xlabel('epochs'), plt.ylabel('loss')\n",
        "    plt.legend(['Train', 'Validation'])\n",
        "    plt.subplot(122), plt.plot(epochs, np.array(h['mean_absolute_error'])*1e5, '.-',\n",
        "                               epochs, np.array(h['val_mean_absolute_error'])*1e5, '.-')\n",
        "    plt.grid(True), plt.xlabel('epochs'), plt.ylabel('MAE')\n",
        "    plt.legend(['Train', 'Validation'])\n",
        "        \n",
        "    print('Train MAE     ', h['mean_absolute_error'][-1]*1e5)\n",
        "    print('Validation MAE', h['val_mean_absolute_error'][-1]*1e5)"
      ]
    },
    {
      "cell_type": "markdown",
      "metadata": {
        "id": "pAkhAzyY_niq"
      },
      "source": [
        "### Building the Network"
      ]
    },
    {
      "cell_type": "code",
      "execution_count": 5,
      "metadata": {
        "scrolled": true,
        "colab": {
          "base_uri": "https://localhost:8080/"
        },
        "id": "dy7aPBla_niq",
        "outputId": "79dfcfc8-8a6a-4344-fb5e-a6d14f9021ae"
      },
      "outputs": [
        {
          "output_type": "stream",
          "name": "stdout",
          "text": [
            "Model: \"model\"\n",
            "_________________________________________________________________\n",
            " Layer (type)                Output Shape              Param #   \n",
            "=================================================================\n",
            " input_1 (InputLayer)        [(None, 5)]               0         \n",
            "                                                                 \n",
            " dense (Dense)               (None, 20)                120       \n",
            "                                                                 \n",
            " dense_1 (Dense)             (None, 20)                420       \n",
            "                                                                 \n",
            " dense_2 (Dense)             (None, 20)                420       \n",
            "                                                                 \n",
            " dense_3 (Dense)             (None, 20)                420       \n",
            "                                                                 \n",
            " dense_4 (Dense)             (None, 20)                420       \n",
            "                                                                 \n",
            " dense_5 (Dense)             (None, 20)                420       \n",
            "                                                                 \n",
            " dense_6 (Dense)             (None, 20)                420       \n",
            "                                                                 \n",
            " dense_7 (Dense)             (None, 1)                 21        \n",
            "                                                                 \n",
            "=================================================================\n",
            "Total params: 2,661\n",
            "Trainable params: 2,661\n",
            "Non-trainable params: 0\n",
            "_________________________________________________________________\n"
          ]
        }
      ],
      "source": [
        "inputs = Input(shape=x.shape[1])\n",
        "outputs = Dense(20, activation='relu')(inputs)\n",
        "outputs = Dense(20, activation='relu')(outputs)\n",
        "outputs = Dense(20, activation='relu')(outputs)\n",
        "outputs = Dense(20, activation='relu')(outputs)\n",
        "outputs = Dense(20, activation='relu')(outputs)\n",
        "outputs = Dense(20, activation='relu')(outputs)\n",
        "outputs = Dense(20, activation='relu')(outputs)\n",
        "outputs = Dense(1, activation='linear')(outputs)\n",
        "model = Model(inputs, outputs)\n",
        "\n",
        "model.compile(optimizer ='adam', loss ='mean_squared_error', metrics =[metrics.mae])\n",
        "model.summary()"
      ]
    },
    {
      "cell_type": "markdown",
      "metadata": {
        "id": "V3pRcIWt_nis"
      },
      "source": [
        "### Training the Network"
      ]
    },
    {
      "cell_type": "code",
      "execution_count": 6,
      "metadata": {
        "scrolled": false,
        "colab": {
          "base_uri": "https://localhost:8080/",
          "height": 643
        },
        "id": "J7uYLpc0_nis",
        "outputId": "c00bd827-fbcd-4945-e9d1-2375b4ae8694"
      },
      "outputs": [
        {
          "output_type": "stream",
          "name": "stdout",
          "text": [
            "Train MAE      17321.212589740753\n",
            "Validation MAE 21720.583736896515\n"
          ]
        },
        {
          "output_type": "display_data",
          "data": {
            "text/plain": [
              "<Figure size 1080x720 with 2 Axes>"
            ],
            "image/png": "[encoded data removed]"
          },
          "metadata": {
            "needs_background": "light"
          }
        }
      ],
      "source": [
        "history = model.fit(x_train, y_train, validation_data=(x_test,y_test), epochs=150, batch_size=64, verbose=0)\n",
        "plot_history(history)"
      ]
    },
    {
      "cell_type": "markdown",
      "metadata": {
        "id": "f2bz-CJr_nit"
      },
      "source": [
        "### Tasks\n",
        "\n",
        "Improve the network so you obtain a better estimation error than the reference. You can try the following:\n",
        "* Add a new feature to your inputs. For instance, `LotArea` (lot size in square feet) seems like a good candidate :-)\n",
        "* Try increasing the number of neurons in the first layer. Currently, we have 5 neurons there, what happens if we increase it to 10?"
      ]
    },
    {
      "cell_type": "markdown",
      "metadata": {
        "id": "oBY8h1nc_nit"
      },
      "source": [
        "### Questions\n",
        "* What is the new price estimation error after your modifrications? Is it better than before?\n",
        "* Does adding more features help?\n",
        "* Does adding more neurons help?\n",
        "* What would you do to improv the network even further?"
      ]
    },
    {
      "cell_type": "markdown",
      "source": [
        "## Answers\n",
        "  - It's better but not so much\n",
        "  - Yes\n",
        "  - Yes\n",
        "  - I think need convert sting value from columns to int value, after that we can get more features"
      ],
      "metadata": {
        "id": "3ZOSis78EdrO"
      }
    }
  ],
  "metadata": {
    "kernelspec": {
      "display_name": "cv",
      "language": "python",
      "name": "cv"
    },
    "language_info": {
      "codemirror_mode": {
        "name": "ipython",
        "version": 3
      },
      "file_extension": ".py",
      "mimetype": "text/x-python",
      "name": "python",
      "nbconvert_exporter": "python",
      "pygments_lexer": "ipython3",
      "version": "3.8.10"
    },
    "colab": {
      "name": "Homework.ipynb",
      "provenance": [],
      "include_colab_link": true
    }
  },
  "nbformat": 4,
  "nbformat_minor": 0
}